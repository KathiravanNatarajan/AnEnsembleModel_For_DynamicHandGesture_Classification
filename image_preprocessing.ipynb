{
 "cells": [
  {
   "cell_type": "code",
   "execution_count": 6,
   "metadata": {
    "collapsed": true
   },
   "outputs": [],
   "source": [
    "import numpy as np \n",
    "import os"
   ]
  },
  {
   "cell_type": "code",
   "execution_count": 2,
   "metadata": {
    "collapsed": false
   },
   "outputs": [
    {
     "name": "stdout",
     "output_type": "stream",
     "text": [
      "['gesture_1', 'gesture_10', 'gesture_11', 'gesture_12', 'gesture_13', 'gesture_14', 'gesture_2', 'gesture_3', 'gesture_4', 'gesture_5', 'gesture_6', 'gesture_7', 'gesture_8', 'gesture_9']\n"
     ]
    }
   ],
   "source": [
    "data_path = r'C:\\Users\\sunka\\Desktop\\An Ensemble Deep Model to differentiate static hand gestures\\DHG2016\\images'\n",
    "print(os.listdir(data_path))"
   ]
  },
  {
   "cell_type": "markdown",
   "metadata": {},
   "source": [
    "### Image resizing, relabeling "
   ]
  },
  {
   "cell_type": "code",
   "execution_count": null,
   "metadata": {
    "collapsed": false
   },
   "outputs": [
    {
     "name": "stderr",
     "output_type": "stream",
     "text": [
      "100%|██████████| 74/74 [00:00<00:00, 124.40it/s]\n",
      "100%|██████████| 64/64 [00:00<00:00, 146.50it/s]\n",
      "100%|██████████| 68/68 [00:00<00:00, 140.87it/s]\n",
      "100%|██████████| 70/70 [00:00<00:00, 131.88it/s]\n",
      "100%|██████████| 77/77 [00:00<00:00, 119.35it/s]\n",
      "100%|██████████| 139/139 [00:01<00:00, 91.30it/s] \n",
      "100%|██████████| 97/97 [00:00<00:00, 129.68it/s]\n",
      "100%|██████████| 114/114 [00:00<00:00, 120.89it/s]\n",
      "100%|██████████| 115/115 [00:00<00:00, 119.55it/s]\n",
      "100%|██████████| 103/103 [00:00<00:00, 131.90it/s]\n",
      "100%|██████████| 238/238 [00:01<00:00, 132.41it/s]\n",
      " 50%|█████     | 58/116 [00:00<00:00, 139.63it/s]"
     ]
    }
   ],
   "source": [
    "from tqdm import tqdm\n",
    "import pandas as pd\n",
    "import cv2\n",
    "import os \n",
    "import matplotlib.image as mpimg\n",
    "image_list = []\n",
    "label_list = []\n",
    "data_path = r'C:\\Users\\sunka\\Desktop\\An Ensemble Deep Model to differentiate static hand gestures\\DHG2016\\images'\n",
    "\n",
    "for gesture in os.listdir(data_path):\n",
    "    counter = 1\n",
    "    for finger in os.listdir(data_path+\"\\\\\"+gesture):\n",
    "        for subject in os.listdir(data_path+\"\\\\\"+gesture+\"\\\\\"+finger):\n",
    "            for essai in os.listdir(data_path+\"\\\\\"+gesture+\"\\\\\"+finger+\"\\\\\"+subject):\n",
    "                for filename in tqdm(os.listdir(data_path+\"\\\\\"+gesture+\"\\\\\"+finger+\"\\\\\"+subject+\"\\\\\"+essai)):\n",
    "                    if filename.endswith(\".png\"):\n",
    "                        img_matplot = mpimg.imread(data_path+\"\\\\\"+gesture+\"\\\\\"+finger+\"\\\\\"+subject+\"\\\\\"+essai+\"\\\\\"+filename)\n",
    "                        img_matplot_resized_200 = cv2.resize(img_matplot,(200, 200))\n",
    "                        new_filename =r'C:\\\\Users\\\\sunka\\\\Desktop\\\\An Ensemble Deep Model to differentiate static hand gestures\\\\DHG2016\\\\reshaped_images'+\"\\\\\"+gesture+\"_\"+str(counter)+\"_\"+filename                   \n",
    "                        cv2.imwrite(new_filename,img_matplot_resized_200)\n",
    "                        image_list.append(new_filename)\n",
    "                        label_list.append(gesture)\n",
    "                        counter += 1 \n",
    "df_images = pd.DataFrame({'images':image_list})\n",
    "df_labels = pd.DataFrame({'labels':label_list})\n",
    "\n",
    "df_images.to_csv(\"image_names.csv\", encoding='utf-8', index=False)\n",
    "df_labels.to_csv(\"labels.csv\", encoding='utf-8', index=False)"
   ]
  },
  {
   "cell_type": "code",
   "execution_count": null,
   "metadata": {
    "collapsed": true
   },
   "outputs": [],
   "source": []
  }
 ],
 "metadata": {
  "anaconda-cloud": {},
  "kernelspec": {
   "display_name": "Python [conda env:tensorflow-cpu]",
   "language": "python",
   "name": "conda-env-tensorflow-cpu-py"
  },
  "language_info": {
   "codemirror_mode": {
    "name": "ipython",
    "version": 3
   },
   "file_extension": ".py",
   "mimetype": "text/x-python",
   "name": "python",
   "nbconvert_exporter": "python",
   "pygments_lexer": "ipython3",
   "version": "3.5.4"
  }
 },
 "nbformat": 4,
 "nbformat_minor": 1
}
