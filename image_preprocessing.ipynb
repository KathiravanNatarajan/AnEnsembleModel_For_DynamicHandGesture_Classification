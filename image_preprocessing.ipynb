{
 "cells": [
  {
   "cell_type": "markdown",
   "metadata": {},
   "source": [
    "### Image data\n",
    "\"\"\"\n",
    "uint8\t0 to 255\n",
    "\n",
    "\n",
    "\n",
    "uint16\t0 to 65535\n",
    "\"\"\""
   ]
  },
  {
   "cell_type": "code",
   "execution_count": null,
   "metadata": {},
   "outputs": [],
   "source": [
    "import cv2\n",
    "import numpy as np\n",
    "img = cv2.imread(filename)\n",
    "reshaped_image = cv2.resize(img,(100, 100))\n",
    "cv2.imwrite(r'C:\\Users\\sunka\\Desktop\\An Ensemble Deep Model to differentiate static hand gestures\\reshaped_images'+gesture+finger+subject+filename,img)\n"
   ]
  },
  {
   "cell_type": "code",
   "execution_count": 27,
   "metadata": {},
   "outputs": [
    {
     "name": "stdout",
     "output_type": "stream",
     "text": [
      "(480, 640, 3)\n",
      "0.013550011\n",
      "0.0\n"
     ]
    },
    {
     "data": {
      "image/png": "[encoded data removed]",
      "text/plain": [
       "<matplotlib.figure.Figure at 0x219994ae2e8>"
      ]
     },
     "metadata": {},
     "output_type": "display_data"
    },
    {
     "name": "stdout",
     "output_type": "stream",
     "text": [
      "(100, 100, 3)\n"
     ]
    },
    {
     "data": {
      "image/png": "[encoded data removed]",
      "text/plain": [
       "<matplotlib.figure.Figure at 0x21999558b70>"
      ]
     },
     "metadata": {},
     "output_type": "display_data"
    }
   ],
   "source": [
    "from PIL import Image\n",
    "import numpy as np\n",
    "import pandas as pd \n",
    "import matplotlib.image as mpimg\n",
    "import matplotlib.pyplot as plt\n",
    "import cv2\n",
    "filename = r'C:\\Users\\sunka\\Desktop\\An Ensemble Deep Model to differentiate static hand gestures\\DHG2016\\images\\gesture_1\\finger_1\\subject_1\\essai_1\\depth_1.png'\n",
    "img = cv2.imread(filename) \n",
    "\n",
    "\n",
    "img2 = mpimg.imread(filename)\n",
    "print(img.shape)\n",
    "#MAX - 3, Min - 0\n",
    "print(img2[:,:].max())\n",
    "print(img2[:,:].min())\n",
    "\n",
    "\"\"\"\n",
    "print(img[:,:,0].min())\n",
    "print(img[:,:,1].min())\n",
    "print(img[:,:,2].min())\n",
    "\n",
    "print(type(img)) - uint8 - range 0 to 255 \n",
    "\"\"\"\n",
    "plt.imshow(img2)\n",
    "plt.show()\n",
    "reshaped_image = cv2.resize(img,(100, 100))\n",
    "print(reshaped_image.shape)\n",
    "\n",
    "\n",
    "\n",
    "plt.imshow(reshaped_image)\n",
    "plt.show()"
   ]
  },
  {
   "cell_type": "markdown",
   "metadata": {},
   "source": [
    "### Image Data Serialization"
   ]
  },
  {
   "cell_type": "code",
   "execution_count": 10,
   "metadata": {},
   "outputs": [
    {
     "name": "stdout",
     "output_type": "stream",
     "text": [
      "(4, 3)\n"
     ]
    }
   ],
   "source": [
    "s = [[1, 2, 3], [4, 5, 6]]\n",
    "t = np.append(s, [[7, 8, 9]], axis=0)\n",
    "print(np.append(t, [[7, 8, 9]], axis=0).shape)"
   ]
  },
  {
   "cell_type": "code",
   "execution_count": 18,
   "metadata": {},
   "outputs": [
    {
     "name": "stdout",
     "output_type": "stream",
     "text": [
      "(20, 100, 100, 3)\n"
     ]
    }
   ],
   "source": [
    "from PIL import Image\n",
    "import numpy as np\n",
    "import pandas as pd \n",
    "import cv2\n",
    "images_df = pd.read_csv(\"image_names.csv\", encoding=\"UTF-8\")\n",
    "img_arr = np.empty((10,100,100,3), int)\n",
    "for filename in images_df[\"images\"][:10]:\n",
    "    img = cv2.imread(filename)\n",
    "    reshaped_image = cv2.resize(img,(100, 100))\n",
    "    reshaped_image = reshaped_image.reshape(1,100,100,3)\n",
    "    img_arr = np.append(img_arr, reshaped_image, axis=0)\n",
    "\n",
    "print(img_arr.shape)\n"
   ]
  },
  {
   "cell_type": "code",
   "execution_count": null,
   "metadata": {
    "collapsed": true
   },
   "outputs": [],
   "source": [
    "images = images.reshape(X_train.shape[0], 100, 100, 3)\n",
    "\n",
    "X = images.astype('float32')\n",
    "\n",
    "# images/=255\n",
    "print(images.shape)\n",
    "\n",
    "X.dump(\"train_features.pkl\")"
   ]
  },
  {
   "cell_type": "markdown",
   "metadata": {},
   "source": [
    "### Labels"
   ]
  },
  {
   "cell_type": "code",
   "execution_count": null,
   "metadata": {
    "collapsed": true
   },
   "outputs": [],
   "source": [
    "labels_df = pd.read_csv(\"labels.csv\")\n",
    "\n",
    "labels = pd.get_dummies(labels_df[\"labels\"]).as_matrix()\n",
    "\n",
    "print(labels.shape)\n",
    "labels.dump(\"./data_dump/train_labels.pkl\")"
   ]
  }
 ],
 "metadata": {
  "anaconda-cloud": {},
  "kernelspec": {
   "display_name": "tensorenv",
   "language": "python",
   "name": "tensorenv"
  },
  "language_info": {
   "codemirror_mode": {
    "name": "ipython",
    "version": 3
   },
   "file_extension": ".py",
   "mimetype": "text/x-python",
   "name": "python",
   "nbconvert_exporter": "python",
   "pygments_lexer": "ipython3",
   "version": "3.6.8"
  }
 },
 "nbformat": 4,
 "nbformat_minor": 2
}
