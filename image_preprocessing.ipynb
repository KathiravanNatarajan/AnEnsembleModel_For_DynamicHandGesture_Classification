{
 "cells": [
  {
   "cell_type": "markdown",
   "metadata": {},
   "source": [
    "### Image data\n",
    "\"\"\"\n",
    "uint8\t0 to 255\n",
    "\n",
    "\n",
    "\n",
    "uint16\t0 to 65535\n",
    "\"\"\""
   ]
  },
  {
   "cell_type": "code",
   "execution_count": null,
   "metadata": {},
   "outputs": [],
   "source": [
    "from PIL import Image\n",
    "import numpy as np\n",
    "import pandas as pd \n",
    "\n",
    "test_image = np.array([np.array(Image.open(***filename***))])\n",
    "\n",
    "# Finds out the data type of the image and after that, it helps in normalizing to make it range from 0 - 1\n",
    "print(type(test_image))\n",
    "\n",
    "test_image = test_image.reshape(X_train.shape[0], 100, 100, 3)\n",
    "test_image = test_image.astype('float32')\n",
    "print(type(test_image))"
   ]
  },
  {
   "cell_type": "markdown",
   "metadata": {},
   "source": [
    "### Image Data Serialization"
   ]
  },
  {
   "cell_type": "code",
   "execution_count": null,
   "metadata": {},
   "outputs": [],
   "source": [
    "from PIL import Image\n",
    "import numpy as np\n",
    "import pandas as pd \n",
    "image_df = pd.read_csv(\"images_list.csv\")\n",
    "\n",
    "\n",
    "images = np.array([np.array(Image.open(filename)) for filename in images_df[\"images\"]])\n",
    "images = images.reshape(X_train.shape[0], 100, 100, 3)\n",
    "X = images.astype('float32')\n",
    "\n",
    "# images/=255\n",
    "print(images.shape)\n",
    "\n",
    "X.dump(\"train_features.pkl\")"
   ]
  },
  {
   "cell_type": "markdown",
   "metadata": {},
   "source": [
    "### Labels"
   ]
  },
  {
   "cell_type": "code",
   "execution_count": null,
   "metadata": {},
   "outputs": [],
   "source": [
    "labels_df = pd.read_csv(\"labels.csv\")\n",
    "\n",
    "labels = pd.get_dummies(labels_df[\"labels\"]).as_matrix()\n",
    "\n",
    "print(labels.shape)\n",
    "labels.dump(\"./data_dump/train_labels.pkl\")"
   ]
  }
 ],
 "metadata": {
  "kernelspec": {
   "display_name": "Python 3",
   "language": "python",
   "name": "python3"
  },
  "language_info": {
   "codemirror_mode": {
    "name": "ipython",
    "version": 3
   },
   "file_extension": ".py",
   "mimetype": "text/x-python",
   "name": "python",
   "nbconvert_exporter": "python",
   "pygments_lexer": "ipython3",
   "version": "3.7.1"
  }
 },
 "nbformat": 4,
 "nbformat_minor": 2
}
